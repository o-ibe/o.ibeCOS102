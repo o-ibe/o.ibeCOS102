{
 "cells": [
  {
   "cell_type": "code",
   "execution_count": 1,
   "id": "aad69718-6a84-4594-b5b6-c449d7666755",
   "metadata": {},
   "outputs": [
    {
     "name": "stdin",
     "output_type": "stream",
     "text": [
      "Enter principal 1\n",
      "Enter rate 2\n",
      "Enter time 3\n"
     ]
    },
    {
     "name": "stdout",
     "output_type": "stream",
     "text": [
      "The total amount including simple interest is 1.06\n"
     ]
    },
    {
     "name": "stdin",
     "output_type": "stream",
     "text": [
      "Enter principal 4\n",
      "Enter rate 5\n",
      "Enter n value 6\n",
      "Enter t value 7\n"
     ]
    },
    {
     "name": "stdout",
     "output_type": "stream",
     "text": [
      "The total amount including compound interest is 455197902131.24677\n"
     ]
    },
    {
     "name": "stdin",
     "output_type": "stream",
     "text": [
      "Enter PMT value 8\n",
      "Enter rate 9\n",
      "Enter n value 10\n",
      "Enter t value 11\n"
     ]
    },
    {
     "name": "stdout",
     "output_type": "stream",
     "text": [
      "The total amount including annuity plan is 4.090190939689434e+31\n"
     ]
    }
   ],
   "source": [
    "# simple interest\n",
    "P = int(input('Enter principal'))\n",
    "R = int(input('Enter rate'))\n",
    "T = int(input('Enter time'))\n",
    "A = P*(1 + (R / 100)*T)\n",
    "print(\"The total amount including simple interest is\", A)\n",
    "\n",
    "# compound interest\n",
    "P = int(input('Enter principal'))\n",
    "R = int(input('Enter rate'))\n",
    "n = int(input('Enter n value'))\n",
    "t = int(input('Enter t value'))\n",
    "A = P*(1 + (R / n))**(n*t)\n",
    "print(\"The total amount including compound interest is\", A)\n",
    "\n",
    "# annuity plan\n",
    "PMT = int(input('Enter PMT value'))\n",
    "R = int(input('Enter rate'))\n",
    "n = int(input('Enter n value'))\n",
    "t = int(input('Enter t value'))\n",
    "A = PMT * (((1 + (R / n))**(n*t) - 1) / (R / n))\n",
    "print(\"The total amount including annuity plan is\", A)"
   ]
  },
  {
   "cell_type": "code",
   "execution_count": null,
   "id": "e89928d0-5ad0-4fe8-bf3f-4bc0dbb381c0",
   "metadata": {},
   "outputs": [],
   "source": []
  }
 ],
 "metadata": {
  "kernelspec": {
   "display_name": "Python 3 (ipykernel)",
   "language": "python",
   "name": "python3"
  },
  "language_info": {
   "codemirror_mode": {
    "name": "ipython",
    "version": 3
   },
   "file_extension": ".py",
   "mimetype": "text/x-python",
   "name": "python",
   "nbconvert_exporter": "python",
   "pygments_lexer": "ipython3",
   "version": "3.11.7"
  }
 },
 "nbformat": 4,
 "nbformat_minor": 5
}
