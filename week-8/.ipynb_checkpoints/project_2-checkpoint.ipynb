{
 "cells": [
  {
   "cell_type": "code",
   "execution_count": 7,
   "id": "38f9e3c6",
   "metadata": {
    "scrolled": true
   },
   "outputs": [],
   "source": [
    "import pandas as pd\n",
    "\n",
    "categories = {\n",
    "    'Segment': ['Refreshment Beverages', 'Confectionery', 'Intermediate Cocoa Products'],\n",
    "    'Brands': [\n",
    "        ['Cadbury Bournvita', 'Cadbury 3-in-1 Hot Chocolate'],\n",
    "        ['Tomtom Classic', 'Tomtom Strawberry', 'Buttermint'],\n",
    "        ['Cocoa Powder', 'Cocoa Butter']\n",
    "    ],\n",
    "    'Products': [\n",
    "        ['Bournvita', 'Hot Chocolate'],\n",
    "        ['Tom Tom', 'Buttermint'],\n",
    "        ['Cocoa Powder', 'Cocoa Butter', 'Cocoa Liquor', 'Cocoa Cake']\n",
    "    ],\n",
    "    'Export': [\n",
    "        ['Local Market'],\n",
    "        ['Local Market'],\n",
    "        ['International Customers', 'Local Market']\n",
    "    ]\n",
    "}\n",
    "\n",
    "df = pd.DataFrame(categories)\n",
    "\n",
    "df = df.explode('Brands').reset_index(drop=True)\n",
    "df = df.explode('Products').reset_index(drop=True)\n",
    "df = df.explode('Export').reset_index(drop=True)\n",
    "\n",
    "df.to_csv('cadbury_market.csv', index=False)"
   ]
  },
  {
   "cell_type": "code",
   "execution_count": null,
   "id": "842c4c66",
   "metadata": {},
   "outputs": [],
   "source": []
  },
  {
   "cell_type": "code",
   "execution_count": null,
   "id": "193b8dcc",
   "metadata": {},
   "outputs": [],
   "source": []
  }
 ],
 "metadata": {
  "kernelspec": {
   "display_name": "Python 3 (ipykernel)",
   "language": "python",
   "name": "python3"
  },
  "language_info": {
   "codemirror_mode": {
    "name": "ipython",
    "version": 3
   },
   "file_extension": ".py",
   "mimetype": "text/x-python",
   "name": "python",
   "nbconvert_exporter": "python",
   "pygments_lexer": "ipython3",
   "version": "3.11.7"
  }
 },
 "nbformat": 4,
 "nbformat_minor": 5
}
