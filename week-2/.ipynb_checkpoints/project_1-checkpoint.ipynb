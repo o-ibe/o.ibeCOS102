{
 "cells": [
  {
   "cell_type": "code",
   "execution_count": null,
   "id": "2ec84250-6b5f-414c-9888-324b08707acd",
   "metadata": {},
   "outputs": [],
   "source": [
    "# STORE CHECKOUT AFTER PURCHASE PSEUDO CODE\n",
    "BEGIN\n",
    "INPUT PaymentAmount\n",
    "INPUT TotalAmount\n",
    "IF PaymentAmount = TotalAmount THEN\n",
    "DISPLAY Sufficient Amount\n",
    "ELSE IF PaymentAmount < TotalAmount THEN\n",
    "DISPLAY Insufficient Amount \n",
    "ELSE\n",
    "COMPUTE Change = PaymentAmount – TotalAmount\n",
    "PRINT Change\n",
    "DISPLAY Sufficient Amount\n",
    "END IF\n",
    "END"
   ]
  },
  {
   "cell_type": "code",
   "execution_count": null,
   "id": "831e306f-7463-4d2f-9dd7-e44d3ef050bd",
   "metadata": {},
   "outputs": [],
   "source": [
    "# AGE SWAP PSEUDO CODE\n",
    "BEGIN\n",
    "INPUT first_name\n",
    "INPUT first_age\n",
    "INPUT second_name\n",
    "INPUT second_age\n",
    "PRINT first_name, “is“, first_age, “years old”\n",
    "PRINT second_name, “is“, second_age, “years old”\n",
    "COMPUTE new_1st_age = second_age\n",
    "COMPUTE new_2nd_age = first_age\n",
    "PRINT first_name, “is“, new_1st_age, “years old”\n",
    "PRINT second_name, \"is“, new_2nd_age, “years old”\n",
    "END"
   ]
  }
 ],
 "metadata": {
  "kernelspec": {
   "display_name": "Python 3 (ipykernel)",
   "language": "python",
   "name": "python3"
  },
  "language_info": {
   "codemirror_mode": {
    "name": "ipython",
    "version": 3
   },
   "file_extension": ".py",
   "mimetype": "text/x-python",
   "name": "python",
   "nbconvert_exporter": "python",
   "pygments_lexer": "ipython3",
   "version": "3.11.7"
  }
 },
 "nbformat": 4,
 "nbformat_minor": 5
}
