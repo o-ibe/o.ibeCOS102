{
 "cells": [
  {
   "cell_type": "code",
   "execution_count": 4,
   "id": "7a138e93-f31d-428b-b083-4d4580f12c7f",
   "metadata": {},
   "outputs": [
    {
     "ename": "IndentationError",
     "evalue": "unindent does not match any outer indentation level (<tokenize>, line 15)",
     "output_type": "error",
     "traceback": [
      "\u001b[1;36m  File \u001b[1;32m<tokenize>:15\u001b[1;36m\u001b[0m\n\u001b[1;33m    A = float(input('Enter the coefficient of x^3:'))\u001b[0m\n\u001b[1;37m    ^\u001b[0m\n\u001b[1;31mIndentationError\u001b[0m\u001b[1;31m:\u001b[0m unindent does not match any outer indentation level\n"
     ]
    }
   ],
   "source": [
    "str = input('Select an equation:')\n",
    "if str == 'Quadratic':\n",
    " A = float(input('Enter the coefficient of x^2:'))\n",
    "B = float(input('Enter the coefficient of x:'))\n",
    "C = float(input('Enter the constant'))\n",
    "r1 = (- B + ((B**2) - (4 * A * C))**0.5) / (2 * A)\n",
    "r2 = (- B - ((B**2) - (4 * A * C))**0.5) / (2 * A)\n",
    "print('The roots of the equation are', r1, r2)\n",
    "elif str == 'Cubic':\n",
    " A = float(input('Enter the coefficient of x^3:'))\n",
    "B = float(input('Enter the coefficient of x^2:'))\n",
    "C = float(input('Enter the coefficient of x:'))\n",
    "D = float(input('Enter the constant:'))\n",
    "roots = []\n",
    "for x in range(-100, 100):\n",
    "    e = (A * (x**3)) + (B * (x**2)) + (C * x) + D\n",
    "    if e == 0:\n",
    "        roots.append(x)\n",
    "        print(roots)\n",
    "        \n",
    "    "
   ]
  },
  {
   "cell_type": "code",
   "execution_count": null,
   "id": "c7fc29a0-8ce1-44dc-aa8c-9edaae23feca",
   "metadata": {},
   "outputs": [],
   "source": []
  }
 ],
 "metadata": {
  "kernelspec": {
   "display_name": "Python 3 (ipykernel)",
   "language": "python",
   "name": "python3"
  },
  "language_info": {
   "codemirror_mode": {
    "name": "ipython",
    "version": 3
   },
   "file_extension": ".py",
   "mimetype": "text/x-python",
   "name": "python",
   "nbconvert_exporter": "python",
   "pygments_lexer": "ipython3",
   "version": "3.11.7"
  }
 },
 "nbformat": 4,
 "nbformat_minor": 5
}
