{
 "cells": [
  {
   "cell_type": "code",
   "execution_count": 1,
   "id": "9e9cb445-32dc-47cb-8cac-1ea00e5f5af0",
   "metadata": {},
   "outputs": [
    {
     "name": "stdin",
     "output_type": "stream",
     "text": [
      "Select an equation: baby\n"
     ]
    },
    {
     "name": "stdout",
     "output_type": "stream",
     "text": [
      "Not a valid equation\n"
     ]
    }
   ],
   "source": [
    "str = input('Select an equation:')\n",
    "if str == 'Quadratic':\n",
    " A = int(input('Enter the coefficient of x^2: '))\n",
    " B = int(input('Enter the coefficient of x: '))\n",
    " C = int(input('Enter the constant: '))\n",
    " r1 = (- B + ((B**2) - (4 * A * C))**0.5) / (2 * A)\n",
    " r2 = (- B - ((B**2) - (4 * A * C))**0.5) / (2 * A)\n",
    " print('The roots of the equation are', r1, r2)\n",
    "elif str == 'Cubic':\n",
    "  A = int(input('Enter the coefficient of x^3: '))\n",
    "  B = int(input('Enter the coefficient of x^2: '))\n",
    "  C = int(input('Enter the coefficient of x: '))\n",
    "  D = int(input('Enter the constant: '))\n",
    "  roots = []\n",
    "  for x in range(-100, 100):\n",
    "    e = (A * (x**3)) + (B * (x**2)) + (C * x) + D\n",
    "    if e == 0:\n",
    "        roots.append(x)\n",
    "  print(roots)\n",
    "elif str == 'Quartic':\n",
    "   A = int(input('Enter the coefficient of x^4: '))\n",
    "   B = int(input('Enter the coefficient of x^3: '))\n",
    "   C = int(input('Enter the coefficient of x^2: '))\n",
    "   D = int(input('Enter the coefficient of x: '))\n",
    "   E = int(input('Enter the constant: '))\n",
    "   roots = []\n",
    "   for x in range(-100, 100):\n",
    "    e = (A * (x**4)) + (B * (x**3)) + (C * (x**2)) + (D * x) + E\n",
    "    if e == 0:\n",
    "        roots.append(x)\n",
    "   print(roots)\n",
    "else:\n",
    "    print(\"Not a valid equation\")"
   ]
  },
  {
   "cell_type": "code",
   "execution_count": null,
   "id": "eacf78c5-30b5-4d64-a447-7f2789c5b0ad",
   "metadata": {},
   "outputs": [],
   "source": []
  }
 ],
 "metadata": {
  "kernelspec": {
   "display_name": "Python 3 (ipykernel)",
   "language": "python",
   "name": "python3"
  },
  "language_info": {
   "codemirror_mode": {
    "name": "ipython",
    "version": 3
   },
   "file_extension": ".py",
   "mimetype": "text/x-python",
   "name": "python",
   "nbconvert_exporter": "python",
   "pygments_lexer": "ipython3",
   "version": "3.11.7"
  }
 },
 "nbformat": 4,
 "nbformat_minor": 5
}
