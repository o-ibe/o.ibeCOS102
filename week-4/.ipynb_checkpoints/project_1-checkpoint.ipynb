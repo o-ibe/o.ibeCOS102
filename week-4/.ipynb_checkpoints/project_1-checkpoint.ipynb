{
 "cells": [
  {
   "cell_type": "code",
   "execution_count": 26,
   "id": "5ee6a612-8693-40eb-88b0-418ad5c89582",
   "metadata": {},
   "outputs": [
    {
     "name": "stdout",
     "output_type": "stream",
     "text": [
      "DATA FOR GIRLS\n",
      "\tName\t | \tAge\t | \tHeight\t | \tScore\n",
      "\tEvelyn\t | \t17\t | \t5.5\t | \t80\n",
      "\tJessica\t | \t16\t | \t6.0\t | \t85\n",
      "\tSomto\t | \t17\t | \t5.4\t | \t70\n",
      "\tEdith\t | \t18\t | \t5.9\t | \t60\n",
      "\tLiza\t | \t16\t | \t5.6\t | \t76\n",
      "\tMadonna\t | \t18\t | \t5.5\t | \t66\n",
      "\tWaje\t | \t17\t | \t6.1\t | \t87\n",
      "\tTola\t | \t20\t | \t6.0\t | \t95\n",
      "\tAisha\t | \t19\t | \t5.7\t | \t50\n",
      "\tLatifa\t | \t17\t | \t5.5\t | \t49\n",
      " \n",
      "DATA FOR BOYS\n",
      "\tName\t | \tAge\t | \tHeight\t | \tScore\n",
      "\tChinedu\t | \t19\t | \t5.7\t | \t74\n",
      "\tLiam\t | \t16\t | \t5.9\t | \t87\n",
      "\tWale\t | \t18\t | \t5.8\t | \t75\n",
      "\tGbenga\t | \t17\t | \t6.1\t | \t68\n",
      "\tAbiola\t | \t20\t | \t5.9\t | \t66\n",
      "\tKola\t | \t19\t | \t5.5\t | \t78\n",
      "\tKunle\t | \t16\t | \t6.1\t | \t87\n",
      "\tGeorge\t | \t18\t | \t5.4\t | \t98\n",
      "\tThomas\t | \t17\t | \t5.8\t | \t54\n",
      "\twesley\t | \t19\t | \t5.7\t | \t60\n"
     ]
    }
   ],
   "source": [
    "# DATA FOR GIRLS\n",
    "girl_names = ['Name', 'Evelyn', 'Jessica', 'Somto', 'Edith', 'Liza', 'Madonna', 'Waje', 'Tola', 'Aisha', 'Latifa']\n",
    "girl_ages = ['Age', '17', '16', '17', '18', '16', '18', '17', '20', '19', '17']\n",
    "girl_heights = ['Height', '5.5', '6.0', '5.4', '5.9', '5.6', '5.5', '6.1', '6.0', '5.7', '5.5']\n",
    "girl_scores = ['Score', '80', '85', '70', '60', '76', '66', '87', '95', '50', '49']\n",
    "\n",
    "# DATA FOR BOYS\n",
    "boy_names = ['Name', 'Chinedu', 'Liam', 'Wale', 'Gbenga', 'Abiola', 'Kola', 'Kunle', 'George', 'Thomas', 'wesley']\n",
    "boy_ages = ['Age', '19', '16', '18', '17', '20', '19', '16', '18', '17', '19']\n",
    "boy_heights = ['Height', '5.7', '5.9', '5.8', '6.1', '5.9', '5.5', '6.1', '5.4', '5.8', '5.7']\n",
    "boy_scores = ['Score', '74', '87', '75', '68', '66', '78', '87', '98', '54', '60']\n",
    "\n",
    "def students(names, ages, heights, scores):\n",
    "    for i in range(11):\n",
    "        print(f'\\t{names[i]}\\t | \\t{ages[i]}\\t | \\t{heights[i]}\\t | \\t{scores[i]}')\n",
    "\n",
    "print('DATA FOR GIRLS')\n",
    "students(girl_names, girl_ages, girl_heights, girl_scores)\n",
    "print(' ')\n",
    "print('DATA FOR BOYS')\n",
    "students(boy_names, boy_ages, boy_heights, boy_scores)"
   ]
  },
  {
   "cell_type": "code",
   "execution_count": null,
   "id": "3cf06478-09e0-4d8d-9d62-1a8540e3dcb1",
   "metadata": {},
   "outputs": [],
   "source": []
  }
 ],
 "metadata": {
  "kernelspec": {
   "display_name": "Python 3 (ipykernel)",
   "language": "python",
   "name": "python3"
  },
  "language_info": {
   "codemirror_mode": {
    "name": "ipython",
    "version": 3
   },
   "file_extension": ".py",
   "mimetype": "text/x-python",
   "name": "python",
   "nbconvert_exporter": "python",
   "pygments_lexer": "ipython3",
   "version": "3.11.7"
  }
 },
 "nbformat": 4,
 "nbformat_minor": 5
}
