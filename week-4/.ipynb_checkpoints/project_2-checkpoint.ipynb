{
 "cells": [
  {
   "cell_type": "code",
   "execution_count": null,
   "id": "c5030d4f-8b34-42f8-bc85-0dad5894ba38",
   "metadata": {},
   "outputs": [
    {
     "name": "stdout",
     "output_type": "stream",
     "text": [
      "Welcome to Izifin Technology\n"
     ]
    },
    {
     "name": "stdin",
     "output_type": "stream",
     "text": [
      "Enter name:  Ibe\n",
      "Enter age:  60\n",
      "Enter number of years of experience:  30\n"
     ]
    },
    {
     "name": "stdout",
     "output_type": "stream",
     "text": [
      "ATR = N5,600,000\n",
      "Welcome to Izifin Technology\n"
     ]
    },
    {
     "name": "stdin",
     "output_type": "stream",
     "text": [
      "Enter name:  Nnamdi\n",
      "Enter age:  49\n",
      "Enter number of years of experience:  24\n"
     ]
    },
    {
     "name": "stdout",
     "output_type": "stream",
     "text": [
      "ATR = N4,480,000\n",
      "Welcome to Izifin Technology\n"
     ]
    }
   ],
   "source": [
    "for i in range(2501):\n",
    "    print('Welcome to Izifin Technology')\n",
    "    name = input('Enter name: ')\n",
    "    age = int(input('Enter age: '))\n",
    "    yrs_of_exp = int(input('Enter number of years of experience: '))\n",
    "    if yrs_of_exp > 25 and age >= 55:\n",
    "        print('ATR = N5,600,000')\n",
    "    elif yrs_of_exp > 20 and yrs_of_exp <= 25 and age >= 45 and age < 55:\n",
    "        print('ATR = N4,480,000')\n",
    "    elif yrs_of_exp > 10 and yrs_of_exp <=20 and age >= 35 and age < 45:\n",
    "        print('ATR = N1,500,000')\n",
    "    elif yrs_of_exp <= 10 and age < 35:\n",
    "        print('ATR = N550,000')\n",
    "    else:\n",
    "        print('You are not qualified for the job')"
   ]
  },
  {
   "cell_type": "code",
   "execution_count": null,
   "id": "9d2b66ce-945d-4a7a-a0eb-f4cc2bb64c46",
   "metadata": {},
   "outputs": [],
   "source": []
  }
 ],
 "metadata": {
  "kernelspec": {
   "display_name": "Python 3 (ipykernel)",
   "language": "python",
   "name": "python3"
  },
  "language_info": {
   "codemirror_mode": {
    "name": "ipython",
    "version": 3
   },
   "file_extension": ".py",
   "mimetype": "text/x-python",
   "name": "python",
   "nbconvert_exporter": "python",
   "pygments_lexer": "ipython3",
   "version": "3.11.7"
  }
 },
 "nbformat": 4,
 "nbformat_minor": 5
}
